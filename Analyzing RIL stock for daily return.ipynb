{
 "cells": [
  {
   "cell_type": "markdown",
   "metadata": {},
   "source": [
    "In this notebook, we try to we fetch data from Monrycontrol website for Reliance Industries Ltd. (RIL) stock for a time period of 5 years from Jan 2018 to Jan 2023. And try to analyze it to know the investment opportunity using the suitable probability distribution."
   ]
  },
  {
   "cell_type": "code",
   "execution_count": 13,
   "metadata": {},
   "outputs": [],
   "source": [
    "import pandas as pd\n",
    "import seaborn as sns\n",
    "import matplotlib.pyplot as plt"
   ]
  },
  {
   "cell_type": "code",
   "execution_count": 14,
   "metadata": {},
   "outputs": [],
   "source": [
    "def fetch_data():\n",
    "    urls_list = [\n",
    "             'https://www.moneycontrol.com/stocks/hist_stock_result.php?sc_id=RI&pno=1&hdn=daily&fdt=2018-01-01&todt=2023-01-01&ex=B',\n",
    "             'https://www.moneycontrol.com/stocks/hist_stock_result.php?sc_id=RI&pno=2&hdn=daily&fdt=2018-01-01&todt=2023-01-01&ex=B',\n",
    "             'https://www.moneycontrol.com/stocks/hist_stock_result.php?sc_id=RI&pno=3&hdn=daily&fdt=2018-01-01&todt=2023-01-01&ex=B'\n",
    "    ]\n",
    "    dfs=[]\n",
    "    for url in urls_list:\n",
    "        data = pd.read_html(url, attrs={'class':'tblchart'})\n",
    "        data = pd.DataFrame(data[0])\n",
    "        dfs.append(data)\n",
    "    \n",
    "    df = pd.concat(dfs)\n",
    "    df.columns = df.columns.droplevel(0)\n",
    "    df = df.reset_index()\n",
    "    df = df.drop(['index'],axis=1)\n",
    "    return df"
   ]
  },
  {
   "cell_type": "code",
   "execution_count": 15,
   "metadata": {},
   "outputs": [
    {
     "data": {
      "text/html": [
       "<div>\n",
       "<style scoped>\n",
       "    .dataframe tbody tr th:only-of-type {\n",
       "        vertical-align: middle;\n",
       "    }\n",
       "\n",
       "    .dataframe tbody tr th {\n",
       "        vertical-align: top;\n",
       "    }\n",
       "\n",
       "    .dataframe thead th {\n",
       "        text-align: right;\n",
       "    }\n",
       "</style>\n",
       "<table border=\"1\" class=\"dataframe\">\n",
       "  <thead>\n",
       "    <tr style=\"text-align: right;\">\n",
       "      <th></th>\n",
       "      <th>Date</th>\n",
       "      <th>Open</th>\n",
       "      <th>High</th>\n",
       "      <th>Low</th>\n",
       "      <th>Close</th>\n",
       "      <th>Volume</th>\n",
       "      <th>(High-Low)</th>\n",
       "      <th>(Open-Close)</th>\n",
       "    </tr>\n",
       "  </thead>\n",
       "  <tbody>\n",
       "    <tr>\n",
       "      <th>0</th>\n",
       "      <td>30-12-2022</td>\n",
       "      <td>2547.00</td>\n",
       "      <td>2576.90</td>\n",
       "      <td>2542.55</td>\n",
       "      <td>2548.20</td>\n",
       "      <td>77470</td>\n",
       "      <td>34.35</td>\n",
       "      <td>-1.20</td>\n",
       "    </tr>\n",
       "    <tr>\n",
       "      <th>1</th>\n",
       "      <td>29-12-2022</td>\n",
       "      <td>2532.05</td>\n",
       "      <td>2549.00</td>\n",
       "      <td>2526.50</td>\n",
       "      <td>2542.55</td>\n",
       "      <td>157229</td>\n",
       "      <td>22.50</td>\n",
       "      <td>-10.50</td>\n",
       "    </tr>\n",
       "    <tr>\n",
       "      <th>2</th>\n",
       "      <td>28-12-2022</td>\n",
       "      <td>2535.90</td>\n",
       "      <td>2549.90</td>\n",
       "      <td>2521.25</td>\n",
       "      <td>2544.45</td>\n",
       "      <td>168925</td>\n",
       "      <td>28.65</td>\n",
       "      <td>-8.55</td>\n",
       "    </tr>\n",
       "    <tr>\n",
       "      <th>3</th>\n",
       "      <td>27-12-2022</td>\n",
       "      <td>2529.00</td>\n",
       "      <td>2548.80</td>\n",
       "      <td>2514.35</td>\n",
       "      <td>2545.05</td>\n",
       "      <td>184837</td>\n",
       "      <td>34.45</td>\n",
       "      <td>-16.05</td>\n",
       "    </tr>\n",
       "    <tr>\n",
       "      <th>4</th>\n",
       "      <td>26-12-2022</td>\n",
       "      <td>2513.70</td>\n",
       "      <td>2542.05</td>\n",
       "      <td>2493.95</td>\n",
       "      <td>2524.50</td>\n",
       "      <td>95382</td>\n",
       "      <td>48.10</td>\n",
       "      <td>-10.80</td>\n",
       "    </tr>\n",
       "  </tbody>\n",
       "</table>\n",
       "</div>"
      ],
      "text/plain": [
       "         Date     Open     High      Low    Close  Volume  (High-Low)  \\\n",
       "0  30-12-2022  2547.00  2576.90  2542.55  2548.20   77470       34.35   \n",
       "1  29-12-2022  2532.05  2549.00  2526.50  2542.55  157229       22.50   \n",
       "2  28-12-2022  2535.90  2549.90  2521.25  2544.45  168925       28.65   \n",
       "3  27-12-2022  2529.00  2548.80  2514.35  2545.05  184837       34.45   \n",
       "4  26-12-2022  2513.70  2542.05  2493.95  2524.50   95382       48.10   \n",
       "\n",
       "   (Open-Close)  \n",
       "0         -1.20  \n",
       "1        -10.50  \n",
       "2         -8.55  \n",
       "3        -16.05  \n",
       "4        -10.80  "
      ]
     },
     "execution_count": 15,
     "metadata": {},
     "output_type": "execute_result"
    }
   ],
   "source": [
    "df = fetch_data()\n",
    "df.head()"
   ]
  },
  {
   "cell_type": "markdown",
   "metadata": {},
   "source": [
    "Data set Explanation:\n",
    "\n",
    "It seems that we have retrieved the historical prices of RIL stock from the Moneycontrol website. The data we have includes the date, opening price, high price, low price, closing price, volume, and the spread between the high and low prices as well as the spread between the opening and closing prices.\n",
    "\n",
    "We want to analyze this data to understand weather investing in this stock will result in large returns. So we use this data to calculate the daily returns of RIL stock by using the formula:\n",
    "\n",
    "Return = (Closing Price - Opening Price) * 100 / Opening Price"
   ]
  },
  {
   "cell_type": "code",
   "execution_count": 16,
   "metadata": {},
   "outputs": [],
   "source": [
    "df['Return'] = (df['Close']-df['Open'])/df['Open']"
   ]
  },
  {
   "cell_type": "code",
   "execution_count": 21,
   "metadata": {},
   "outputs": [
    {
     "data": {
      "image/png": "[encoded data removed]",
      "text/plain": [
       "<Figure size 720x720 with 1 Axes>"
      ]
     },
     "metadata": {
      "needs_background": "light"
     },
     "output_type": "display_data"
    }
   ],
   "source": [
    "# Extract the closing price data\n",
    "closing_prices = df['Return']\n",
    "\n",
    "# Plot the histogram of closing price distribution\n",
    "fig, ax = plt.subplots(figsize=(10,10))\n",
    "sns.histplot(closing_prices, kde=True)\n",
    "plt.savefig('distribution.png')"
   ]
  },
  {
   "cell_type": "code",
   "execution_count": 20,
   "metadata": {},
   "outputs": [
    {
     "name": "stdout",
     "output_type": "stream",
     "text": [
      "Mean daily return: -0.06%\n"
     ]
    }
   ],
   "source": [
    "# Calculate the daily returns\n",
    "df['daily_returns'] = df['Close'].pct_change()\n",
    "\n",
    "# Calculate the mean daily return\n",
    "mean_return = df['daily_returns'].mean()\n",
    "\n",
    "# Print the mean daily return as a percentage\n",
    "print(\"Mean daily return: {:.2%}\".format(mean_return))\n"
   ]
  },
  {
   "cell_type": "markdown",
   "metadata": {},
   "source": [
    "*Conclusion:*\n",
    "\n",
    "Based on the analysis of the daily returns of RIL stock over a period of five years, it can be concluded that the returns follow a normal distribution. \n",
    "\n",
    "Furthermore, the daily returns for RIL stock show a slight negative trend over the five-year period, with a daily return of -0.06% on average. This suggests that there may be some downward pressure on the stock in the short term, and investors should consider this when making investment decisions.\n",
    "\n",
    "It is important to note that past performance is not necessarily indicative of future results, and that other factors such as company financials, industry trends, and global economic conditions should also be taken into account when making investment decisions."
   ]
  }
 ],
 "metadata": {
  "kernelspec": {
   "display_name": "Python 3",
   "language": "python",
   "name": "python3"
  },
  "language_info": {
   "codemirror_mode": {
    "name": "ipython",
    "version": 3
   },
   "file_extension": ".py",
   "mimetype": "text/x-python",
   "name": "python",
   "nbconvert_exporter": "python",
   "pygments_lexer": "ipython3",
   "version": "3.7.3"
  }
 },
 "nbformat": 4,
 "nbformat_minor": 2
}
